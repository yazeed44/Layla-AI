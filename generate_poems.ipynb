{
 "cells": [
  {
   "cell_type": "code",
   "execution_count": 9,
   "metadata": {},
   "outputs": [],
   "source": [
    "import rhymes\n",
    "import markovify\n",
    "from tqdm import tqdm"
   ]
  },
  {
   "cell_type": "code",
   "execution_count": 10,
   "metadata": {},
   "outputs": [],
   "source": [
    "def markov(text_file):\n",
    "    with open(text_file, 'r', encoding='utf-8') as f:\n",
    "        text = f.read()\n",
    "    text_model = markovify.NewlineText(text)\n",
    "    return text_model"
   ]
  },
  {
   "cell_type": "code",
   "execution_count": 67,
   "metadata": {},
   "outputs": [],
   "source": [
    "def generate_poem_single_rhyme(poet_name, rhyme, iterations=3000, use_tqdm=False):\n",
    "    n_of_rhyme_letters = len(rhyme)\n",
    "    input_file = 'input/{}.txt'.format(poet_name)\n",
    "    text_model = markov(input_file)\n",
    "    rhymes_list = rhymes.rhymes_with_last_n_chars(rhyme, n_of_rhyme_letters)\n",
    "    bayts = set()\n",
    "    used_rhymes = set()\n",
    "    \n",
    "    poem = \"\"\n",
    "    \n",
    "    if use_tqdm == True:\n",
    "        if hasattr(tqdm, '_instances'): tqdm._instances.clear()\n",
    "        it_range = tqdm(range(iterations))\n",
    "    else:\n",
    "        it_range = range(iterations)\n",
    "        \n",
    "    for i in it_range:\n",
    "        bayt = text_model.make_short_sentence(280, tries=100)\n",
    "        last_word = bayt.split()[-1]\n",
    "        if (last_word in rhymes_list) and (last_word not in used_rhymes) and (bayt not in bayts):\n",
    "            bayts.add(bayt)\n",
    "            used_rhymes.add(last_word)\n",
    "            poem += \"{}\\n\".format(bayt)\n",
    "            if not use_tqdm:\n",
    "                print(bayt)\n",
    "    return poem\n",
    "\n",
    "def generate_poem_2_rhymes(poet_name, rhyme_1, rhyme_2, iterations=3000, use_tqdm=False):\n",
    "    n_of_rhyme_1_letters = len(rhyme_1)\n",
    "    n_of_rhyme_2_letters = len(rhyme_2)\n",
    "    \n",
    "    input_file = 'input/{}.txt'.format(poet_name)\n",
    "    text_model = markov(input_file)\n",
    "    \n",
    "    rhymes_1_list = rhymes.rhymes_with_last_n_chars(rhyme_1, n_of_rhyme_1_letters)\n",
    "    rhymes_2_list = rhymes.rhymes_with_last_n_chars(rhyme_2, n_of_rhyme_2_letters)\n",
    "    \n",
    "    bayts_1 = set()\n",
    "    bayts_2 = set()\n",
    "    \n",
    "    used_rhymes_1 = set()\n",
    "    used_rhymes_2 = set()\n",
    "    \n",
    "    poem = \"\"\n",
    "    \n",
    "    if use_tqdm == True:\n",
    "        if hasattr(tqdm, '_instances'): tqdm._instances.clear()\n",
    "        it_range = tqdm(range(iterations))\n",
    "    else:\n",
    "        it_range = range(iterations)\n",
    "        \n",
    "    for i in it_range:\n",
    "        bayt = text_model.make_short_sentence(280, tries=100)\n",
    "        last_word = bayt.split()[-1]\n",
    "        \n",
    "        if (last_word in rhymes_1_list) and (last_word not in used_rhymes_1) and (bayt not in bayts_1):\n",
    "            bayts_1.add(bayt)\n",
    "            used_rhymes_1.add(last_word)\n",
    "\n",
    "        if (last_word in rhymes_2_list) and (last_word not in used_rhymes_2) and (bayt not in bayts_2):\n",
    "            bayts_2.add(bayt)\n",
    "            used_rhymes_2.add(last_word)                \n",
    "    \n",
    "    len_of_poem = min(len(bayts_1), len(bayts_2))\n",
    "    for i in range(len_of_poem):\n",
    "        poem += \"{}\\n{}\\n\".format(list(bayts_1)[i], list(bayts_2)[i])\n",
    "        \n",
    "    return poem"
   ]
  },
  {
   "cell_type": "code",
   "execution_count": 81,
   "metadata": {},
   "outputs": [
    {
     "name": "stdout",
     "output_type": "stream",
     "text": [
      "تراءى لنا من بين ثنيّته خلالا\n",
      "صه لم يكن عدة مطالا\n",
      "وإن لم تكن تدع الحجالا\n",
      "وطاغية جعلت له خبالا\n",
      "ومعتمد جعلت له نكالا\n",
      "ونأمل سيب غيثك يا بلال سنا طوالا\n",
      "هجان من الدهنا تفرّعت الحبالا\n",
      "وإنّي لمدلاج إذا ما الأمر ذو الشبهات عالا\n"
     ]
    }
   ],
   "source": [
    "x = generate_poem_single_rhyme(\n",
    "                            'ذو الرمة',\n",
    "                            'الا',\n",
    "                            iterations=3000,\n",
    "                            use_tqdm=False\n",
    "                            )"
   ]
  },
  {
   "cell_type": "code",
   "execution_count": 82,
   "metadata": {},
   "outputs": [
    {
     "name": "stdout",
     "output_type": "stream",
     "text": [
      "يقلن إذا ما هرولت حردا\n",
      "وإذ هي تريك الوجه من خلل الستور إذا بدا\n",
      "محلّهم من بني جشم بن بكر وأهودا\n",
      "إذا كاد ضوء الصبح سهما خفيددا\n",
      "إنّي حلفت بربّ موسى جاهدا\n"
     ]
    }
   ],
   "source": [
    "x = generate_poem_single_rhyme(\n",
    "                            'الأخطل',\n",
    "                            'دا',\n",
    "                            iterations=3000,\n",
    "                            use_tqdm=False\n",
    "                            )"
   ]
  },
  {
   "cell_type": "code",
   "execution_count": 83,
   "metadata": {},
   "outputs": [
    {
     "name": "stdout",
     "output_type": "stream",
     "text": [
      "تجعلني امرأة في الدنيا\n",
      "إن كان حبك في رئتيا\n",
      "يا بيتها في آخر الليل مثل الشظايا\n",
      "ونسيت حقدي كله في شفتيا\n",
      "ما الذي يحدث في الرؤيا\n",
      "ورأينا كيف في اسبانيا\n",
      "آه لو كان حيا\n",
      "وإن شظايا الزجاج المكسر ما بين آلاف الهدايا\n"
     ]
    }
   ],
   "source": [
    "x = generate_poem_single_rhyme(\n",
    "                            'نزار قباني',\n",
    "                            'يا',\n",
    "                            iterations=3000,\n",
    "                            use_tqdm=False\n",
    "                            )"
   ]
  },
  {
   "cell_type": "code",
   "execution_count": null,
   "metadata": {},
   "outputs": [],
   "source": []
  },
  {
   "cell_type": "code",
   "execution_count": 84,
   "metadata": {},
   "outputs": [
    {
     "name": "stdout",
     "output_type": "stream",
     "text": [
      "وأنّ الموت طوع يدي إذا ما الحرب خفّ لواها\n",
      "فإذا ما الأرض فاح ربيعها\n",
      "كلّا ولا كنت بعد فراقها\n",
      "تصلّي نحوه من كلّ فاتنة تلفّت جيدها\n",
      "هل عيشة طابت لنا إلّا وقد هدم القضاء وطيدها\n",
      "يا دار عبلة سائلا مغناها\n",
      "ولي حسام إذا ما الحرب دارت لي رحاها\n",
      "فالقتل لي من بعد صاحبها تجرّ خطاها\n",
      "وما هالني يا عبل كم من غمرة باشرتها\n",
      "وأنّ الموت طوع يدي إذا ما الطعن شقّ جباها\n",
      "يا عبل إن كان ربّي في السماء قضاها\n",
      "وتذكّرت عبلة يوم بينها\n",
      "وكم فارس يا عبل كم فتنة بليت بها\n",
      "ودعاء عبس في الوغى بقناها\n"
     ]
    }
   ],
   "source": [
    "x = generate_poem_single_rhyme(\n",
    "                            'عنترة بن شداد',\n",
    "                            'ها',\n",
    "                            iterations=3000,\n",
    "                            use_tqdm=False\n",
    "                            )"
   ]
  },
  {
   "cell_type": "code",
   "execution_count": null,
   "metadata": {},
   "outputs": [],
   "source": []
  }
 ],
 "metadata": {
  "kernelspec": {
   "display_name": "Python 3 (ipykernel)",
   "language": "python",
   "name": "python3"
  },
  "language_info": {
   "codemirror_mode": {
    "name": "ipython",
    "version": 3
   },
   "file_extension": ".py",
   "mimetype": "text/x-python",
   "name": "python",
   "nbconvert_exporter": "python",
   "pygments_lexer": "ipython3",
   "version": "3.9.7"
  }
 },
 "nbformat": 4,
 "nbformat_minor": 4
}
